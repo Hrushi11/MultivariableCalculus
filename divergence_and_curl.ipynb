{
 "cells": [
  {
   "cell_type": "code",
   "execution_count": null,
   "metadata": {
    "collapsed": true,
    "deletable": true,
    "editable": true
   },
   "outputs": [],
   "source": [
    "import numpy as np\n",
    "import matplotlib.pyplot as plt\n",
    "from matplotlib import cm\n",
    "\n",
    "from mpl_toolkits.mplot3d import Axes3D\n",
    "from matplotlib.ticker import LinearLocator, FormatStrFormatter\n",
    "%matplotlib inline"
   ]
  },
  {
   "cell_type": "code",
   "execution_count": null,
   "metadata": {
    "collapsed": true,
    "deletable": true,
    "editable": true
   },
   "outputs": [],
   "source": [
    "def plot_function(X, Y, fn, linewidth=0, title=''):\n",
    "    X, Y = np.meshgrid(X, Y)\n",
    "    Z = fn(X, Y)\n",
    "    \n",
    "    # Create figure.\n",
    "    fig = plt.figure()\n",
    "    ax = fig.gca(projection='3d')\n",
    "    surf = ax.plot_surface(X, Y, Z, cmap=cm.coolwarm, linewidth=0, antialiased=False)\n",
    "\n",
    "    # Customize the z axis.\n",
    "    ax.zaxis.set_major_locator(LinearLocator(10))\n",
    "    ax.zaxis.set_major_formatter(FormatStrFormatter('%.02f'))\n",
    "\n",
    "    # Add a color bar which maps values to colors.\n",
    "    fig.colorbar(surf, shrink=0.5, aspect=5)\n",
    "    plt.title(title)\n",
    "\n",
    "    plt.show()\n",
    "    "
   ]
  },
  {
   "cell_type": "markdown",
   "metadata": {
    "deletable": true,
    "editable": true
   },
   "source": [
    "# Curvature"
   ]
  },
  {
   "cell_type": "markdown",
   "metadata": {
    "deletable": true,
    "editable": true
   },
   "source": [
    "The tangent vector of a function $ S(t) $ is given by the following equation:\n",
    "\n",
    "$$\n",
    "T(t) = \\frac{S^{(1)}(t)}{\\left|\\left| S^{(1)}(t) \\right|\\right|} \n",
    "$$\n",
    "\n",
    "Given the following function:\n",
    "\n",
    "$$\n",
    "S(t) = \\left[ \\begin{array}{c} t \\\\\n",
    "                               sin(\\pi t) \\end{array} \\right]\n",
    "$$\n",
    "\n",
    "The tangent vector is therefore:\n",
    "\n",
    "$$\n",
    "T(t) = \\left[ \\begin{array}{c} 1 \\\\\n",
    "                               \\pi cos(\\pi t) \\end{array} \\right]\n",
    "$$"
   ]
  },
  {
   "cell_type": "code",
   "execution_count": null,
   "metadata": {
    "collapsed": true,
    "deletable": true,
    "editable": true
   },
   "outputs": [],
   "source": [
    "t = np.arange(0, 5, 0.025)\n",
    "S = [t, np.sin(np.pi * t)]\n",
    "\n",
    "tangent = lambda t : (1.0 / np.sqrt(1 + (np.pi * np.cos(np.pi * t))**2), \n",
    "                     np.pi * np.cos(np.pi * t) / np.sqrt(1 + (np.pi * np.cos(np.pi * t))**2))\n",
    "U, V = tangent(t)"
   ]
  },
  {
   "cell_type": "code",
   "execution_count": null,
   "metadata": {
    "collapsed": true,
    "deletable": true,
    "editable": true
   },
   "outputs": [],
   "source": [
    "d = 20\n",
    "plt.plot(S[0], S[1])\n",
    "for x_i, y_i, t_i in zip(S[0][::d], S[1][::d], t[::d]):\n",
    "    plt.text(x_i + 0.25, y_i, 't={}'.format(t_i))\n",
    "    \n",
    "dv = 5\n",
    "for x_i, y_i, u_i, v_i in zip(S[0][::dv], S[1][::dv], U[::dv], V[::dv]):\n",
    "    plt.quiver(x_i, y_i, u_i, v_i)\n",
    "    \n",
    "plt.grid()\n",
    "plt.show()"
   ]
  },
  {
   "cell_type": "markdown",
   "metadata": {
    "deletable": true,
    "editable": true
   },
   "source": [
    "The rate of change of the tangent of a function with respect to change along the function is called the curvature. \n",
    "\n",
    "$$\n",
    "K = \\left|\\left|\\frac {dT}{dt} \\right|\\right|\n",
    "= \\frac{x^{(1)}(t) y^{(2)}(t) - y^{(1)}(t) x^{(2)}(t)}{((x^{(1)}(t))^2 + (y^{(1)}(t))^2)^\\frac{3}{2}}\n",
    "$$\n",
    "\n",
    "Therefore, the curvature $ K $ of this function $ S(t) $ is:\n",
    "\n",
    "$$\n",
    "K = \\frac{-\\pi^2 sin(\\pi t)}{(1 + (\\pi cos(\\pi t))^2)^\\frac{3}{2}}\n",
    "$$\n",
    "\n",
    "If one were to draw a circle with the same rate of curvature as the tangent of a function, the radius $ r $ of that circle would be related to the curvature $ K $ by:\n",
    "\n",
    "$$\n",
    "K = \\frac{1}{r}\n",
    "$$"
   ]
  },
  {
   "cell_type": "code",
   "execution_count": null,
   "metadata": {
    "collapsed": true,
    "deletable": true,
    "editable": true
   },
   "outputs": [],
   "source": [
    "curvature = lambda t : (-np.pi * np.sin(np.pi * t)) / (1 + (np.pi * np.cos(np.pi * t))**2)**(3 / 2.0)\n",
    "\n",
    "K = curvature(t)"
   ]
  },
  {
   "cell_type": "code",
   "execution_count": null,
   "metadata": {
    "collapsed": true,
    "deletable": true,
    "editable": true
   },
   "outputs": [],
   "source": [
    "d = 20\n",
    "fig = plt.plot(S[0], S[1])\n",
    "for x_i, y_i, t_i in zip(S[0][::d], S[1][::d], t[::d]):\n",
    "    plt.text(x_i + 0.25, y_i, 't={}'.format(t_i))\n",
    "    \n",
    "dv = 5\n",
    "for x_i, y_i, u_i, v_i in zip(S[0][::dv], S[1][::dv], U[::dv], V[::dv]):\n",
    "    plt.quiver(x_i, y_i, u_i, v_i)\n",
    "    \n",
    "t_i = 100\n",
    "r = K[t_i]\n",
    "circle1 = plt.Circle((S[0][t_i], S[1][t_i] + r), r, alpha=0.5, color='red')\n",
    "plt.gcf().gca().add_artist(circle1)\n",
    "\n",
    "plt.grid()\n",
    "plt.show()"
   ]
  },
  {
   "cell_type": "code",
   "execution_count": null,
   "metadata": {
    "collapsed": true,
    "deletable": true,
    "editable": true
   },
   "outputs": [],
   "source": [
    "d = 20\n",
    "fig = plt.plot(S[0], S[1])\n",
    "for x_i, y_i, t_i in zip(S[0][::d], S[1][::d], t[::d]):\n",
    "    plt.text(x_i, y_i + y_i / 2, 't={}'.format(t_i))\n",
    "    \n",
    "dv = 5\n",
    "for x_i, y_i, u_i, v_i in zip(S[0][::dv], S[1][::dv], U[::dv], V[::dv]):\n",
    "    plt.quiver(x_i, y_i, u_i, v_i)\n",
    "    \n",
    "plt.plot(t, K)\n",
    "\n",
    "plt.grid()\n",
    "plt.xlabel('x')\n",
    "plt.ylabel('y')\n",
    "plt.title('Curvature K over time')\n",
    "plt.show()"
   ]
  },
  {
   "cell_type": "markdown",
   "metadata": {
    "deletable": true,
    "editable": true
   },
   "source": [
    "# Divergence"
   ]
  },
  {
   "cell_type": "markdown",
   "metadata": {
    "deletable": true,
    "editable": true
   },
   "source": [
    "The divergence describes the rate at which flow occurs away from a given point. It is a scalar-valued function with vectors as input. The stronger that neighboring vectors point \"away\" from a point, the greater the value of divergence. Conversely, a point with many vectors pointing towards it will have a large negative divergence."
   ]
  },
  {
   "cell_type": "markdown",
   "metadata": {
    "deletable": true,
    "editable": true
   },
   "source": [
    "The divergence is given by:\n",
    "\n",
    "$$\n",
    "divergence(f(x, y)) = \\nabla \\centerdot V(x, y) = \\frac{dP}{dx} + \\frac{dQ}{dy}\n",
    "$$\n",
    "\n",
    "where:\n",
    "\n",
    "$$\n",
    "V(x, y) = \\left[ \\begin{array}{c} P(x, y) \\\\\n",
    "                                  Q(x, y) \\end{array} \\right]\n",
    "$$"
   ]
  },
  {
   "cell_type": "code",
   "execution_count": null,
   "metadata": {
    "collapsed": true,
    "deletable": true,
    "editable": true
   },
   "outputs": [],
   "source": [
    "X = np.arange(-5, 5, 0.025)\n",
    "Y = np.arange(-5, 5, 0.025)\n",
    "Xm, Ym = np.meshgrid(X, Y)\n",
    "df = lambda x, y : (2 * x, 2 * np.cos(y))\n",
    "U, V = df(Xm, Ym)\n",
    "\n",
    "plt.figure()\n",
    "plt.title('Vector field V(X, Y)')\n",
    "Clr = np.hypot(U, V)\n",
    "d = 20\n",
    "Q = plt.quiver(Xm[::d, ::d], Ym[::d, ::d], U[::d, ::d], V[::d, ::d],\n",
    "               Clr[::d, ::d], pivot='mid', cmap=cm.coolwarm)"
   ]
  },
  {
   "cell_type": "code",
   "execution_count": null,
   "metadata": {
    "collapsed": true,
    "deletable": true,
    "editable": true
   },
   "outputs": [],
   "source": [
    "divergence = lambda x, y : 2 - 2 * np.sin(y)\n",
    "\n",
    "plot_function(X, Y, divergence, title='Divergence of f(X, Y)')"
   ]
  },
  {
   "cell_type": "markdown",
   "metadata": {
    "deletable": true,
    "editable": true
   },
   "source": [
    "# Curl"
   ]
  },
  {
   "cell_type": "markdown",
   "metadata": {
    "deletable": true,
    "editable": true
   },
   "source": [
    "The curl describes the movement perpendicular, or around, a point rather than into or away from it. Like the divergence, it is scalar-valued and takes a vector field as input. Positive curl values indicate counter-clockwise movement around a point whereas negative curl values indicate clockwise movement."
   ]
  },
  {
   "cell_type": "markdown",
   "metadata": {
    "deletable": true,
    "editable": true
   },
   "source": [
    "The curl is given by:\n",
    "\n",
    "$$\n",
    "curl(V(x, y)) = \\nabla \\times V(x, y) = \\frac{dQ}{dx} - \\frac{dP}{dy}\n",
    "$$"
   ]
  },
  {
   "cell_type": "code",
   "execution_count": null,
   "metadata": {
    "collapsed": true,
    "deletable": true,
    "editable": true
   },
   "outputs": [],
   "source": [
    "X = np.arange(-5, 5, 0.025)\n",
    "Y = np.arange(-5, 5, 0.025)\n",
    "Xm, Ym = np.meshgrid(X, Y)\n",
    "df = lambda x, y : (x * np.sin(y), y * np.cos(x))\n",
    "U, V = df(Xm, Ym)\n",
    "\n",
    "plt.figure()\n",
    "plt.title('Vector field V(X, Y)')\n",
    "Clr = np.hypot(U, V)\n",
    "d = 20\n",
    "Q = plt.quiver(Xm[::d, ::d], Ym[::d, ::d], U[::d, ::d], V[::d, ::d],\n",
    "               Clr[::d, ::d], pivot='mid', cmap=cm.coolwarm)"
   ]
  },
  {
   "cell_type": "code",
   "execution_count": null,
   "metadata": {
    "collapsed": true,
    "deletable": true,
    "editable": true
   },
   "outputs": [],
   "source": [
    "curl = lambda x, y : -y * np.sin(x) - x * np.cos(y)\n",
    "\n",
    "plot_function(X, Y, curl, title='Curl of V(X, Y)')"
   ]
  }
 ],
 "metadata": {
  "kernelspec": {
   "display_name": "Python [conda root]",
   "language": "python",
   "name": "conda-root-py"
  },
  "language_info": {
   "codemirror_mode": {
    "name": "ipython",
    "version": 2
   },
   "file_extension": ".py",
   "mimetype": "text/x-python",
   "name": "python",
   "nbconvert_exporter": "python",
   "pygments_lexer": "ipython2",
   "version": "2.7.11"
  }
 },
 "nbformat": 4,
 "nbformat_minor": 2
}
