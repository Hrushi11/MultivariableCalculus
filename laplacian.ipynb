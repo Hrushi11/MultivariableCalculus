{
 "cells": [
  {
   "cell_type": "code",
   "execution_count": null,
   "metadata": {
    "collapsed": true
   },
   "outputs": [],
   "source": [
    "import numpy as np\n",
    "import matplotlib.pyplot as plt\n",
    "from matplotlib import cm\n",
    "\n",
    "from mpl_toolkits.mplot3d import Axes3D\n",
    "from matplotlib.ticker import LinearLocator, FormatStrFormatter\n",
    "%matplotlib inline"
   ]
  },
  {
   "cell_type": "code",
   "execution_count": null,
   "metadata": {
    "collapsed": true
   },
   "outputs": [],
   "source": [
    "def plot_function(X, Y, fn, linewidth=0, title=''):\n",
    "    X, Y = np.meshgrid(X, Y)\n",
    "    Z = fn(X, Y)\n",
    "    \n",
    "    # Create figure.\n",
    "    fig = plt.figure()\n",
    "    ax = fig.gca(projection='3d')\n",
    "    surf = ax.plot_surface(X, Y, Z, cmap=cm.coolwarm, linewidth=0, antialiased=False)\n",
    "\n",
    "    # Customize the z axis.\n",
    "    ax.zaxis.set_major_locator(LinearLocator(10))\n",
    "    ax.zaxis.set_major_formatter(FormatStrFormatter('%.02f'))\n",
    "\n",
    "    # Add a color bar which maps values to colors.\n",
    "    fig.colorbar(surf, shrink=0.5, aspect=5)\n",
    "    plt.title(title)\n",
    "\n",
    "    plt.show()\n"
   ]
  },
  {
   "cell_type": "markdown",
   "metadata": {},
   "source": [
    "# The Laplacian"
   ]
  },
  {
   "cell_type": "markdown",
   "metadata": {},
   "source": [
    "The Laplacian in simple terms is the divergence of the gradient of a function. The Laplacian of a multivariable function is like its second derivative, showing extrema where maxima and minima are located in the original function. "
   ]
  },
  {
   "cell_type": "markdown",
   "metadata": {},
   "source": [
    "The function:\n",
    "$$\n",
    "f(x, y) = cos(\\pi x) cos(\\pi y)\n",
    "$$\n",
    "\n",
    "The gradient:\n",
    "$$\n",
    "\\frac{df(x, y)}{dx} = \\left[ \\begin{array}{c} -\\pi sin(\\pi x) cos(\\pi y) \\\\\n",
    "                                              -\\pi cos(\\pi x) sin(\\pi y) \\end{array} \\right]\n",
    "$$\n",
    "\n",
    "The Laplacian:\n",
    "$$\n",
    "\\nabla \\centerdot \\nabla f(x, y) = \\nabla^2 f(x, y) = \n",
    "                                   -\\pi^2 (2 cos(\\pi x) sin(\\pi y))\n",
    "$$"
   ]
  },
  {
   "cell_type": "code",
   "execution_count": null,
   "metadata": {
    "collapsed": false
   },
   "outputs": [],
   "source": [
    "X = np.arange(-1, 1, 0.0025)\n",
    "Y = np.arange(-1, 1, 0.0025)\n",
    "\n",
    "f = lambda x, y : np.cos(np.pi * x) * np.cos(np.pi * y)\n",
    "\n",
    "plot_function(X, Y, f)"
   ]
  },
  {
   "cell_type": "code",
   "execution_count": null,
   "metadata": {
    "collapsed": false
   },
   "outputs": [],
   "source": [
    "df = lambda x, y : (-np.pi * np.sin(np.pi * x) * np.cos(np.pi * y), \\\n",
    "                    -np.pi * np.cos(np.pi * x) * np.sin(np.pi * y))\n",
    "laplacian = lambda x, y : -np.pi**2 * (2 * np.cos(np.pi * x) * np.cos(np.pi * y))\n",
    "\n",
    "plot_function(X, Y, laplacian, title='Laplacian of f')"
   ]
  },
  {
   "cell_type": "markdown",
   "metadata": {},
   "source": [
    "## Another example"
   ]
  },
  {
   "cell_type": "markdown",
   "metadata": {},
   "source": [
    "The function:\n",
    "$$\n",
    "f(x, y) = (x^2 - y^2) sin(x)\n",
    "$$\n",
    "\n",
    "The gradient:\n",
    "$$\n",
    "\\frac{df(x, y)}{dx} = \\left[ \\begin{array}{c} 2x sin(x) + (x^2 - y^2) cos(x) \\\\\n",
    "                                              -2y sin(x) \\end{array} \\right]\n",
    "$$\n",
    "\n",
    "The Laplacian:\n",
    "$$\n",
    "\\nabla \\centerdot \\nabla f(x, y) = \\nabla^2 f(x, y) = \n",
    "                                   2 (2x cos(x) - (x^2 - y^2) sin(x))\n",
    "$$"
   ]
  },
  {
   "cell_type": "code",
   "execution_count": null,
   "metadata": {
    "collapsed": false
   },
   "outputs": [],
   "source": [
    "X = np.arange(-2, 2, 0.0025)\n",
    "Y = np.arange(-2, 2, 0.0025)\n",
    "\n",
    "f = lambda x, y : (x**2 - y**2) * np.sin(x)\n",
    "\n",
    "plot_function(X, Y, f)"
   ]
  },
  {
   "cell_type": "code",
   "execution_count": null,
   "metadata": {
    "collapsed": false
   },
   "outputs": [],
   "source": [
    "laplacian = lambda x, y : 2 * (2 * x * np.cos(x) - (x**2 - y**2) * np.sin(x))\n",
    "\n",
    "plot_function(X, Y, laplacian, title='Laplacian of f')"
   ]
  }
 ],
 "metadata": {
  "kernelspec": {
   "display_name": "Python [conda root]",
   "language": "python",
   "name": "conda-root-py"
  },
  "language_info": {
   "codemirror_mode": {
    "name": "ipython",
    "version": 2
   },
   "file_extension": ".py",
   "mimetype": "text/x-python",
   "name": "python",
   "nbconvert_exporter": "python",
   "pygments_lexer": "ipython2",
   "version": "2.7.11"
  }
 },
 "nbformat": 4,
 "nbformat_minor": 0
}
