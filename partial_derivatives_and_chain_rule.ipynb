{
 "cells": [
  {
   "cell_type": "code",
   "execution_count": null,
   "metadata": {
    "collapsed": true
   },
   "outputs": [],
   "source": [
    "import numpy as np\n",
    "import matplotlib.pyplot as plt\n",
    "from matplotlib import cm\n",
    "\n",
    "from mpl_toolkits.mplot3d import Axes3D\n",
    "from matplotlib.ticker import LinearLocator, FormatStrFormatter\n",
    "%matplotlib inline"
   ]
  },
  {
   "cell_type": "markdown",
   "metadata": {},
   "source": [
    "# Multivariable Chain Rule"
   ]
  },
  {
   "cell_type": "markdown",
   "metadata": {},
   "source": [
    "## v(t)"
   ]
  },
  {
   "cell_type": "markdown",
   "metadata": {},
   "source": [
    "$$ \n",
    "v(t) = \\left[ \\begin{array}{c} e^{-\\frac{t}{5}} cos(\\pi t) \\\\\n",
    "                               e^{-\\frac{t}{5}} sin(\\pi t) \\end{array} \\right] = \n",
    "       \\left[ \\begin{array}{c} v_x(t) \\\\\n",
    "                               v_y(t) \\end{array} \\right]\n",
    "$$"
   ]
  },
  {
   "cell_type": "code",
   "execution_count": null,
   "metadata": {},
   "outputs": [],
   "source": [
    "t = np.arange(0, 5, 0.025)\n",
    "V = [np.exp(-t / 5) * np.cos(np.pi * t), np.exp(-t / 5) * np.sin(np.pi * t)]\n",
    "\n",
    "plt.plot(V[0], V[1])\n",
    "for v_x, v_y, t_i in zip(V[0][::20], V[1][::20], t[::20]):\n",
    "    plt.text(v_x, v_y, 't={}'.format(t_i))\n",
    "plt.show()"
   ]
  },
  {
   "cell_type": "markdown",
   "metadata": {},
   "source": [
    "## f(v(t))"
   ]
  },
  {
   "cell_type": "markdown",
   "metadata": {},
   "source": [
    "$$ f(t) = v_x(t) v_y(t) $$"
   ]
  },
  {
   "cell_type": "code",
   "execution_count": null,
   "metadata": {},
   "outputs": [],
   "source": [
    "F = V[0] * V[1]\n",
    "\n",
    "plt.plot(t, F)\n",
    "plt.xlabel('t')\n",
    "plt.ylabel('f(v(t))')\n",
    "plt.show()"
   ]
  },
  {
   "cell_type": "markdown",
   "metadata": {},
   "source": [
    "## derivative of f(v(t)) with respect to t"
   ]
  },
  {
   "cell_type": "markdown",
   "metadata": {},
   "source": [
    "$$\n",
    "\\frac{df(v(t))}{dt} = \\frac{df}{dv} \\frac{dv}{dt} = \n",
    "v_x^{(1)}(t) v_y(t) + v_x(t) v_y^{(1)}(t)\n",
    "$$\n",
    "\n",
    "$$\n",
    "v_x^{(1)}(t) = -\\frac{1}{5}e^{-\\frac{t}{5}} cos(\\pi t) - \\pi e^{-\\frac{t}{5}} sin(\\pi t)\n",
    "$$\n",
    "\n",
    "$$\n",
    "v_y^{(1)}(t) = -\\frac{1}{5}e^{-\\frac{t}{5}} sin(\\pi t) + \\pi e^{-\\frac{t}{5}} cos(\\pi t)\n",
    "$$\n",
    "\n",
    "$$\n",
    "\\frac{df(v(t))}{dt} = \n",
    "v_x^{(1)}(t) v_y(t) + v_x(t) v_y^{(1)}(t) = \n",
    "-e^{-\\frac{2t}{5}} (\\frac{2}{5} sin(\\pi t) cos(\\pi t) - \\pi cos(2 \\pi t))\n",
    "$$"
   ]
  },
  {
   "cell_type": "code",
   "execution_count": null,
   "metadata": {},
   "outputs": [],
   "source": [
    "df = -np.exp(-2 * t / 5.0) * \\\n",
    "     (2 / 5.0 * np.cos(np.pi * t) * np.sin(np.pi * t) - \\\n",
    "     np.pi * np.cos(2 * np.pi * t))\n",
    "\n",
    "plt.plot(t, df)\n",
    "plt.xlabel('t')\n",
    "plt.ylabel('df(v(t))/dt')\n",
    "plt.show()"
   ]
  },
  {
   "cell_type": "markdown",
   "metadata": {},
   "source": [
    "# Partial Derivatives of Vector Fields"
   ]
  },
  {
   "cell_type": "markdown",
   "metadata": {},
   "source": [
    "## Plot vector field"
   ]
  },
  {
   "cell_type": "code",
   "execution_count": null,
   "metadata": {},
   "outputs": [],
   "source": [
    "X = np.arange(-5, 5, 0.025)\n",
    "Y = np.arange(-5, 5, 0.025)\n",
    "Xm, Ym = np.meshgrid(X, Y)\n",
    "vf = lambda x, y : (np.multiply(x, y), x**2 - y**2)\n",
    "U, V = vf(Xm, Ym)\n",
    "\n",
    "plt.figure()\n",
    "plt.title('Vector field f(X, Y)')\n",
    "Clr = np.hypot(U, V)\n",
    "d = 20\n",
    "Q = plt.quiver(Xm[::d, ::d], Ym[::d, ::d], U[::d, ::d], V[::d, ::d],\n",
    "               Clr[::d, ::d], pivot='mid', cmap=cm.coolwarm)"
   ]
  },
  {
   "cell_type": "markdown",
   "metadata": {},
   "source": [
    "## Plot derivative of vector field"
   ]
  },
  {
   "cell_type": "code",
   "execution_count": null,
   "metadata": {},
   "outputs": [],
   "source": [
    "dvf_dx = lambda x, y : (y, 2 * x)\n",
    "dvf_dy = lambda x, y : (x, -2 * y)\n",
    "dU_dx, dV_dx = dvf_dx(Xm, Ym)\n",
    "dU_dy, dV_dy = dvf_dy(Xm, Ym)\n",
    "\n",
    "plt.figure()\n",
    "plt.title('Vector field of df(X, Y) wrt x')\n",
    "Clr = np.hypot(dU_dx, dV_dx)\n",
    "d = 20\n",
    "Q = plt.quiver(Xm[::d, ::d], Ym[::d, ::d], dU_dx[::d, ::d], dV_dx[::d, ::d],\n",
    "               Clr[::d, ::d], pivot='mid', cmap=cm.coolwarm)\n",
    "\n",
    "plt.figure()\n",
    "plt.title('Vector field f(X, Y) wrt y')\n",
    "Clr = np.hypot(dU_dy, dV_dy)\n",
    "d = 20\n",
    "Q = plt.quiver(Xm[::d, ::d], Ym[::d, ::d], dU_dy[::d, ::d], dV_dy[::d, ::d],\n",
    "               Clr[::d, ::d], pivot='mid', cmap=cm.coolwarm)"
   ]
  }
 ],
 "metadata": {
  "kernelspec": {
   "display_name": "Python [conda root]",
   "language": "python",
   "name": "conda-root-py"
  },
  "language_info": {
   "codemirror_mode": {
    "name": "ipython",
    "version": 2
   },
   "file_extension": ".py",
   "mimetype": "text/x-python",
   "name": "python",
   "nbconvert_exporter": "python",
   "pygments_lexer": "ipython2",
   "version": "2.7.13"
  }
 },
 "nbformat": 4,
 "nbformat_minor": 2
}
