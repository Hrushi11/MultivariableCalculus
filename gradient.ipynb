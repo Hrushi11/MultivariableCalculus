{
 "cells": [
  {
   "cell_type": "code",
   "execution_count": null,
   "metadata": {
    "collapsed": true
   },
   "outputs": [],
   "source": [
    "import numpy as np\n",
    "import matplotlib.pyplot as plt\n",
    "from matplotlib import cm\n",
    "\n",
    "from mpl_toolkits.mplot3d import Axes3D\n",
    "from matplotlib.ticker import LinearLocator, FormatStrFormatter\n",
    "%matplotlib inline"
   ]
  },
  {
   "cell_type": "code",
   "execution_count": null,
   "metadata": {
    "collapsed": true
   },
   "outputs": [],
   "source": [
    "def plot_function(X, Y, fn, linewidth=0):\n",
    "    X, Y = np.meshgrid(X, Y)\n",
    "    Z = fn(X, Y)\n",
    "    \n",
    "    # Create figure.\n",
    "    fig = plt.figure()\n",
    "    ax = fig.gca(projection='3d')\n",
    "    surf = ax.plot_surface(X, Y, Z, cmap=cm.coolwarm, linewidth=0, antialiased=False)\n",
    "\n",
    "    # Customize the z axis.\n",
    "    ax.zaxis.set_major_locator(LinearLocator(10))\n",
    "    ax.zaxis.set_major_formatter(FormatStrFormatter('%.02f'))\n",
    "\n",
    "    # Add a color bar which maps values to colors.\n",
    "    fig.colorbar(surf, shrink=0.5, aspect=5)\n",
    "\n",
    "    plt.show()\n",
    "    "
   ]
  },
  {
   "cell_type": "markdown",
   "metadata": {},
   "source": [
    "## Plot original function"
   ]
  },
  {
   "cell_type": "code",
   "execution_count": null,
   "metadata": {},
   "outputs": [],
   "source": [
    "X = np.arange(-5, 5, 0.025)\n",
    "Y = np.arange(-5, 5, 0.025)\n",
    "f = lambda x, y : x**2 + 2 * np.sin(y)\n",
    "\n",
    "plot_function(X, Y, f)"
   ]
  },
  {
   "cell_type": "markdown",
   "metadata": {},
   "source": [
    "## Plot gradient of function"
   ]
  },
  {
   "cell_type": "code",
   "execution_count": null,
   "metadata": {},
   "outputs": [],
   "source": [
    "Xm, Ym = np.meshgrid(X, Y)\n",
    "df = lambda x, y : (2 * x, 2 * np.cos(y))\n",
    "U, V = df(Xm, Ym)\n",
    "\n",
    "plt.figure()\n",
    "plt.title('Gradient of f(X, Y)')\n",
    "Clr = np.hypot(U, V)\n",
    "d = 20\n",
    "Q = plt.quiver(Xm[::d, ::d], Ym[::d, ::d], U[::d, ::d], V[::d, ::d],\n",
    "               Clr[::d, ::d], pivot='mid', cmap=cm.coolwarm)"
   ]
  },
  {
   "cell_type": "markdown",
   "metadata": {},
   "source": [
    "## Calculate directional gradient"
   ]
  },
  {
   "cell_type": "code",
   "execution_count": null,
   "metadata": {},
   "outputs": [],
   "source": [
    "x_i = [1, 0]\n",
    "y_i = [0, 1]\n",
    "\n",
    "# gradient should be almost entirely in x-direction\n",
    "xo = [4, 0]\n",
    "df = lambda x, y : (2 * x, np.cos(y))\n",
    "go = df(xo[0], xo[1])\n",
    "print('Gradient at f({}) along vector x_i = {}'.format(xo, np.dot(go, x_i)))\n",
    "print('Gradient at f({}) along vector y_i = {}'.format(xo, np.dot(go, y_i)))"
   ]
  }
 ],
 "metadata": {
  "kernelspec": {
   "display_name": "Python [conda root]",
   "language": "python",
   "name": "conda-root-py"
  },
  "language_info": {
   "codemirror_mode": {
    "name": "ipython",
    "version": 2
   },
   "file_extension": ".py",
   "mimetype": "text/x-python",
   "name": "python",
   "nbconvert_exporter": "python",
   "pygments_lexer": "ipython2",
   "version": "2.7.13"
  }
 },
 "nbformat": 4,
 "nbformat_minor": 1
}
