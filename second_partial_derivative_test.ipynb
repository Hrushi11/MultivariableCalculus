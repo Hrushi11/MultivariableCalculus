{
 "cells": [
  {
   "cell_type": "code",
   "execution_count": null,
   "metadata": {
    "collapsed": true
   },
   "outputs": [],
   "source": [
    "import numpy as np\n",
    "import matplotlib.pyplot as plt\n",
    "from matplotlib import cm\n",
    "\n",
    "from mpl_toolkits.mplot3d import Axes3D\n",
    "from matplotlib.ticker import LinearLocator, FormatStrFormatter\n",
    "%matplotlib inline"
   ]
  },
  {
   "cell_type": "code",
   "execution_count": null,
   "metadata": {},
   "outputs": [],
   "source": [
    "def plot_function(X, Y, fn, linewidth=0, title='', cmap=cm.coolwarm):\n",
    "    X, Y = np.meshgrid(X, Y)\n",
    "    Z = fn(X, Y)\n",
    "    \n",
    "    # Create figure.\n",
    "    fig = plt.figure()\n",
    "    ax = fig.gca(projection='3d')\n",
    "    surf = ax.plot_surface(X, Y, Z, cmap=cmap, linewidth=0, antialiased=False)\n",
    "\n",
    "    # Customize the z axis.\n",
    "    ax.zaxis.set_major_locator(LinearLocator(10))\n",
    "    ax.zaxis.set_major_formatter(FormatStrFormatter('%.02f'))\n",
    "\n",
    "    # Add a color bar which maps values to colors.\n",
    "    fig.colorbar(surf, shrink=0.5, aspect=5)\n",
    "    plt.title(title)\n",
    "\n",
    "    plt.show()\n",
    "    "
   ]
  },
  {
   "cell_type": "markdown",
   "metadata": {},
   "source": [
    "# Second Partial Derivative Test"
   ]
  },
  {
   "cell_type": "markdown",
   "metadata": {},
   "source": [
    "Finding the maxima, minima, or saddle points of a function is of great interest to many fields, such as control theory and machine learning. The critical points of a function can be found by setting the first derivative (or gradient) of that function equal to zero and solving for the variables. However, this does not provide enough information to determine if these critical points are maxima, minima, or saddle points. The second partial derivative test, as the name implies, can provide this information by applying the second partial derivative to a function."
   ]
  },
  {
   "cell_type": "markdown",
   "metadata": {},
   "source": [
    "The second partial derivative test is defined:\n",
    "\n",
    "$$\n",
    "H_f(x_0, y_0) = f_{xx}(x_0, y_0) f_{yy}(x_0, y_0) - f_{xy}(x_0, y_0)^2\n",
    "$$\n",
    "\n",
    "With the value of $ H_f $ at the point $ (x_0, y_0) $:\n",
    "\n",
    "$$\n",
    "\\begin{array}{cc}\n",
    "  \\text{If } H(x_0, y_0) > 0 \\text{ and } (f_{xx} > 0 \\text{ or } f_{yy} > 0) & \\text{minimum} \\\\\n",
    "  \\text{If } H(x_0, y_0) > 0 \\text{ and } (f_{xx} < 0 \\text{ or } f_{yy} < 0) & \\text{maximum} \\\\\n",
    "  \\text{If } H < 0 & \\text{saddle point} \\\\\n",
    "  \\text{Else } & \\text{undetermined}\n",
    "\\end{array}\n",
    "$$"
   ]
  },
  {
   "cell_type": "markdown",
   "metadata": {},
   "source": [
    "For the following function:\n",
    "\n",
    "$$\n",
    "f(x, y) = x^2 - y^2\n",
    "$$\n",
    "\n",
    "The corresponding derivatives are:\n",
    "\n",
    "$$\n",
    "f_x(x, y) = 2 x \\\\\n",
    "f_y(x, y) = -2 y\n",
    "$$\n",
    "\n",
    "This function has one critical point:\n",
    "\n",
    "$$\n",
    "f(0, 0)\n",
    "$$"
   ]
  },
  {
   "cell_type": "code",
   "execution_count": null,
   "metadata": {},
   "outputs": [],
   "source": [
    "X = np.arange(-5, 5, 0.025)\n",
    "Y = np.arange(-5, 5, 0.025)\n",
    "\n",
    "f = lambda x, y : x**2 - y**2\n",
    "plot_function(X, Y, f, title='Function f(x, y)')"
   ]
  },
  {
   "cell_type": "markdown",
   "metadata": {},
   "source": [
    "Its second partial derivatives are:\n",
    "\n",
    "$$\n",
    "f_xx(x, y) = 2 \\\\\n",
    "f_yy(x, y) = -2 \\\\\n",
    "f_xy(x, y) = 0\n",
    "$$\n",
    "\n",
    "Thus, the second partial derivative test is simply: \n",
    "\n",
    "$$\n",
    "H_f(x_0, y_0) = (2) (-2) = -4\n",
    "$$\n",
    "\n",
    "Which is negative, indicating that this critical point is a saddle point, which can be verified from the graph."
   ]
  }
 ],
 "metadata": {
  "kernelspec": {
   "display_name": "Python [conda root]",
   "language": "python",
   "name": "conda-root-py"
  },
  "language_info": {
   "codemirror_mode": {
    "name": "ipython",
    "version": 2
   },
   "file_extension": ".py",
   "mimetype": "text/x-python",
   "name": "python",
   "nbconvert_exporter": "python",
   "pygments_lexer": "ipython2",
   "version": "2.7.13"
  }
 },
 "nbformat": 4,
 "nbformat_minor": 2
}
