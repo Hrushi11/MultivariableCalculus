{
 "cells": [
  {
   "cell_type": "code",
   "execution_count": null,
   "metadata": {
    "collapsed": true
   },
   "outputs": [],
   "source": [
    "import numpy as np\n",
    "import matplotlib.pyplot as plt\n",
    "from matplotlib import cm\n",
    "\n",
    "from mpl_toolkits.mplot3d import Axes3D\n",
    "from matplotlib.ticker import LinearLocator, FormatStrFormatter\n",
    "%matplotlib inline"
   ]
  },
  {
   "cell_type": "code",
   "execution_count": null,
   "metadata": {
    "collapsed": true
   },
   "outputs": [],
   "source": [
    "def plot_function(X, Y, fn, linewidth=0, title='' cmap=cm.coolwarm):\n",
    "    X, Y = np.meshgrid(X, Y)\n",
    "    Z = fn(X, Y)\n",
    "    \n",
    "    # Create figure.\n",
    "    fig = plt.figure()\n",
    "    ax = fig.gca(projection='3d')\n",
    "    surf = ax.plot_surface(X, Y, Z, cmap=cmap, linewidth=0, antialiased=False)\n",
    "\n",
    "    # Customize the z axis.\n",
    "    ax.zaxis.set_major_locator(LinearLocator(10))\n",
    "    ax.zaxis.set_major_formatter(FormatStrFormatter('%.02f'))\n",
    "\n",
    "    # Add a color bar which maps values to colors.\n",
    "    fig.colorbar(surf, shrink=0.5, aspect=5)\n",
    "    plt.title(title)\n",
    "\n",
    "    plt.show()\n",
    "    "
   ]
  },
  {
   "cell_type": "markdown",
   "metadata": {},
   "source": [
    "# Tangent Planes"
   ]
  },
  {
   "cell_type": "markdown",
   "metadata": {},
   "source": [
    "At any point along a complicated function, it may be useful to approximate the tangent along that point. The linearization $ L_f(x, y) $ of a function fits a tangent plane at the point $ (x_0, y_0) $ which linearly approximates the surface at that point."
   ]
  },
  {
   "cell_type": "markdown",
   "metadata": {},
   "source": [
    "For the following function:\n",
    "\n",
    "$$\n",
    "f(x, y) = e^{-\\frac{x^2 + y^2}{10}}\n",
    "$$\n",
    "\n",
    "The linear approximation about point $ (x_0, y_0) $ is:\n",
    "\n",
    "$$\n",
    "L_f(x, y) = f(x_0, y_0) + f_x(x_0, y_0)(x - x_0) + f_y(x_0, y_0)(y - y_0) \\\\\n",
    "= e^{-\\frac{x_0^2 + y_0^2}{10}} (1 - \\frac{1}{5} (x_0 (x - x_0) + y_0 (y - y_0))\n",
    "$$"
   ]
  },
  {
   "cell_type": "code",
   "execution_count": null,
   "metadata": {},
   "outputs": [],
   "source": [
    "X = np.arange(-5, 5, 0.025)\n",
    "Y = np.arange(-5, 5, 0.025)\n",
    "f = lambda x, y : np.exp(-(x**2 + y**2) / 10)\n",
    "\n",
    "plot_function(X, Y, f, title='f(x, y)')"
   ]
  },
  {
   "cell_type": "code",
   "execution_count": null,
   "metadata": {
    "collapsed": true
   },
   "outputs": [],
   "source": [
    "Xm, Ym = np.meshgrid(X, Y)\n",
    "linapx = lambda X, Y, xo, yo : np.exp(-(xo**2 + yo**2) / 10) \\\n",
    "                               * (1 - 0.2 * (xo * (X - xo) + yo * (Y - yo)))"
   ]
  },
  {
   "cell_type": "code",
   "execution_count": null,
   "metadata": {},
   "outputs": [],
   "source": [
    "xo = 2\n",
    "yo = 0\n",
    "Z = linapx(Xm, Ym, xo, yo)\n",
    "\n",
    "# Create figure.\n",
    "fig = plt.figure()\n",
    "ax = fig.gca(projection='3d')\n",
    "surf = ax.plot_surface(Xm, Ym, f(Xm, Ym), cmap=cm.coolwarm, linewidth=0, antialiased=False, alpha=0.6)\n",
    "surf = ax.plot_surface(Xm, Ym, Z, cmap=cm.jet, linewidth=0, antialiased=False, alpha=0.2)\n",
    "ax.scatter([xo], [yo], [f(xo, yo)], c='r', marker='o', linewidth=4)\n",
    "\n",
    "# Customize the z axis.\n",
    "ax.zaxis.set_major_locator(LinearLocator(10))\n",
    "ax.zaxis.set_major_formatter(FormatStrFormatter('%.02f'))\n",
    "\n",
    "# Add a color bar which maps values to colors.\n",
    "fig.colorbar(surf, shrink=0.5, aspect=5)\n",
    "plt.title('Linear approximation of f(x, y)')\n",
    "\n",
    "plt.show()\n",
    "    "
   ]
  },
  {
   "cell_type": "code",
   "execution_count": null,
   "metadata": {},
   "outputs": [],
   "source": [
    "xo = 0\n",
    "yo = 0\n",
    "Z = linapx(Xm, Ym, xo, yo)\n",
    "\n",
    "# Create figure.\n",
    "fig = plt.figure()\n",
    "ax = fig.gca(projection='3d')\n",
    "surf = ax.plot_surface(Xm, Ym, f(Xm, Ym), cmap=cm.coolwarm, linewidth=0, antialiased=False, alpha=0.6)\n",
    "surf = ax.plot_surface(Xm, Ym, Z, cmap=cm.jet, linewidth=0, antialiased=False, alpha=0.2)\n",
    "ax.scatter([xo], [yo], [f(xo, yo)], c='r', marker='o', linewidth=4)\n",
    "\n",
    "# Customize the z axis.\n",
    "ax.zaxis.set_major_locator(LinearLocator(10))\n",
    "ax.zaxis.set_major_formatter(FormatStrFormatter('%.02f'))\n",
    "\n",
    "# Add a color bar which maps values to colors.\n",
    "fig.colorbar(surf, shrink=0.5, aspect=5)\n",
    "plt.title('Linear approximation of f(x, y)')\n",
    "\n",
    "plt.show()\n",
    "    "
   ]
  },
  {
   "cell_type": "markdown",
   "metadata": {},
   "source": [
    "# Hessian Approximation and Hessian Matrix"
   ]
  },
  {
   "cell_type": "markdown",
   "metadata": {},
   "source": [
    "The linear approximation is a decent approximation but loses accuracy at large distances away from the approximation point. A more accurate estimation of the gradient of a complicated function $ f(x, y) $ around a point $ (x_0, y_0) $ can be obtained by fitting a quadratic function $ Q(x_0, y_0) $ at that point. The Hessian is the N-dimensional quadratic approximation for functions with more than two inputs."
   ]
  },
  {
   "cell_type": "markdown",
   "metadata": {},
   "source": [
    "For the following function:\n",
    "\n",
    "$$\n",
    "f(x, y) = e^{-\\frac{x^2 + y^2}{10}}\n",
    "$$\n",
    "\n",
    "The quadratic approximation about point $ (x_0, y_0) $ is:\n",
    "\n",
    "$$\n",
    "\\begin{array}{ccc} \n",
    "    Q_f(x, y) = & f(x_0, y_0) & \\text{constant term} \\\\\n",
    "                & + f_x(x_0, y_0)(x - x_0) + f_y(x_0, y_0)(y - y_0) & \\text{linear term} \\\\\n",
    "                & + \\frac{1}{2}f_{xx}(x_0, y_0)(x - x_0)^2 + f_{xy}(x_0, y_0)(x - x_0)(y - y_0)\n",
    "                + \\frac{1}{2}f_{yy}(x_0, y_0)(y - y_0)^2 & \\text{quadratic term} \n",
    "\\end{array} \\\\\n",
    "= e^{-\\frac{x_0^2 + y_0^2}{10}} \\left(1 - \\frac{1}{5} \\left(x_0 (x - x_0) + y_0 (y - y_0)\\right)\\right) \\\\\n",
    "  + e^{-(x_0^2 + y_0^2) / 10} \\left(\\frac{1}{25}x_0 y_0 (x - x_0)(y - y_0) \n",
    "  - \\frac{1}{10}\\left((1 - \\frac{1}{5}x_0^2) (x - x_0)^2 + (1 - \\frac{1}{5} y_0^2) (y - y_0)^2\\right)\\right)\n",
    "$$"
   ]
  },
  {
   "cell_type": "code",
   "execution_count": null,
   "metadata": {},
   "outputs": [],
   "source": [
    "Xm, Ym = np.meshgrid(X, Y)\n",
    "quadapx = lambda X, Y, xo, yo : np.exp(-(xo**2 + yo**2) / 10) \\\n",
    "                               * (1 - 0.2 * (xo * (X - xo) + yo * (Y - yo))) \\\n",
    "                               + np.exp(-(xo**2 + yo**2) / 10) \\\n",
    "                               * (1/25.0 * xo * yo * (X - xo) * (Y - yo) \\\n",
    "                               - (1/10.0) * ((1 - 0.2 * xo**2) * (X - xo)**2 + (1 - 0.2 * yo**2) * (Y - yo)**2))\n",
    "                                "
   ]
  },
  {
   "cell_type": "code",
   "execution_count": null,
   "metadata": {},
   "outputs": [],
   "source": [
    "xo = 2\n",
    "yo = 0\n",
    "Z = quadapx(Xm, Ym, xo, yo)\n",
    "\n",
    "# Create figure.\n",
    "fig = plt.figure()\n",
    "ax = fig.gca(projection='3d')\n",
    "surf = ax.plot_surface(Xm, Ym, f(Xm, Ym), cmap=cm.coolwarm, linewidth=0, antialiased=False, alpha=0.2)\n",
    "surf = ax.plot_surface(Xm, Ym, Z, cmap=cm.jet, linewidth=0, antialiased=False, alpha=0.6)\n",
    "ax.scatter([xo], [yo], [f(xo, yo)], c='r', marker='o', linewidth=4)\n",
    "\n",
    "# Customize the z axis.\n",
    "ax.zaxis.set_major_locator(LinearLocator(10))\n",
    "ax.zaxis.set_major_formatter(FormatStrFormatter('%.02f'))\n",
    "\n",
    "# Add a color bar which maps values to colors.\n",
    "fig.colorbar(surf, shrink=0.5, aspect=5)\n",
    "plt.title('Linear approximation of f(x, y)')\n",
    "\n",
    "plt.show()\n",
    "    "
   ]
  },
  {
   "cell_type": "code",
   "execution_count": null,
   "metadata": {},
   "outputs": [],
   "source": [
    "xo = 0\n",
    "yo = 0\n",
    "Z = quadapx(Xm, Ym, xo, yo)\n",
    "\n",
    "# Create figure.\n",
    "fig = plt.figure()\n",
    "ax = fig.gca(projection='3d')\n",
    "surf = ax.plot_surface(Xm, Ym, f(Xm, Ym), cmap=cm.coolwarm, linewidth=0, antialiased=False, alpha=0.2)\n",
    "surf = ax.plot_surface(Xm, Ym, Z, cmap=cm.jet, linewidth=0, antialiased=False, alpha=0.6)\n",
    "ax.scatter([xo], [yo], [f(xo, yo)], c='r', marker='o', linewidth=4)\n",
    "\n",
    "# Customize the z axis.\n",
    "ax.zaxis.set_major_locator(LinearLocator(10))\n",
    "ax.zaxis.set_major_formatter(FormatStrFormatter('%.02f'))\n",
    "\n",
    "# Add a color bar which maps values to colors.\n",
    "fig.colorbar(surf, shrink=0.5, aspect=5)\n",
    "plt.title('Linear approximation of f(x, y)')\n",
    "\n",
    "plt.show()\n",
    "    "
   ]
  }
 ],
 "metadata": {
  "kernelspec": {
   "display_name": "Python [conda root]",
   "language": "python",
   "name": "conda-root-py"
  },
  "language_info": {
   "codemirror_mode": {
    "name": "ipython",
    "version": 2
   },
   "file_extension": ".py",
   "mimetype": "text/x-python",
   "name": "python",
   "nbconvert_exporter": "python",
   "pygments_lexer": "ipython2",
   "version": "2.7.13"
  }
 },
 "nbformat": 4,
 "nbformat_minor": 2
}
