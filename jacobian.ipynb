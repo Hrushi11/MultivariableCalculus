{
 "cells": [
  {
   "cell_type": "code",
   "execution_count": null,
   "metadata": {
    "collapsed": true
   },
   "outputs": [],
   "source": [
    "import numpy as np\n",
    "import matplotlib.pyplot as plt\n",
    "from matplotlib import cm\n",
    "\n",
    "from mpl_toolkits.mplot3d import Axes3D\n",
    "from matplotlib.ticker import LinearLocator, FormatStrFormatter\n",
    "%matplotlib inline"
   ]
  },
  {
   "cell_type": "code",
   "execution_count": null,
   "metadata": {
    "collapsed": true
   },
   "outputs": [],
   "source": [
    "def plot_function(X, Y, fn, linewidth=0, title=''):\n",
    "    X, Y = np.meshgrid(X, Y)\n",
    "    Z = fn(X, Y)\n",
    "    \n",
    "    # Create figure.\n",
    "    fig = plt.figure()\n",
    "    ax = fig.gca(projection='3d')\n",
    "    surf = ax.plot_surface(X, Y, Z, cmap=cm.coolwarm, linewidth=0, antialiased=False)\n",
    "\n",
    "    # Customize the z axis.\n",
    "    ax.zaxis.set_major_locator(LinearLocator(10))\n",
    "    ax.zaxis.set_major_formatter(FormatStrFormatter('%.02f'))\n",
    "\n",
    "    # Add a color bar which maps values to colors.\n",
    "    fig.colorbar(surf, shrink=0.5, aspect=5)\n",
    "    plt.title(title)\n",
    "\n",
    "    plt.show()\n",
    "    "
   ]
  },
  {
   "cell_type": "markdown",
   "metadata": {},
   "source": [
    "# Affine transformation"
   ]
  },
  {
   "cell_type": "code",
   "execution_count": null,
   "metadata": {
    "collapsed": false
   },
   "outputs": [],
   "source": [
    "X = np.arange(-5, 5, 0.025)\n",
    "Y = np.arange(-5, 5, 0.025)\n",
    "f = lambda x, y : np.exp(-(x**2 + y**2) / 10) * np.cos(x) * np.cos(y)\n",
    "\n",
    "plot_function(X, Y, f, title='f(x, y)')"
   ]
  },
  {
   "cell_type": "code",
   "execution_count": null,
   "metadata": {
    "collapsed": false
   },
   "outputs": [],
   "source": [
    "J = np.array([[2, -1.5], [1, 1]])\n",
    "affine = lambda X, Y, J : np.matmul(J, np.stack((X, Y), axis=1))\n",
    "\n",
    "Xm, Ym = np.meshgrid(X, Y)\n",
    "X_j = affine(Xm, Ym, J)\n",
    "\n",
    "# Create figure.\n",
    "fig = plt.figure()\n",
    "ax = fig.gca(projection='3d')\n",
    "surf = ax.plot_surface(X_j[:, 0, :], X_j[:, 1, :], f(Xm, Ym), cmap=cm.coolwarm, linewidth=0, antialiased=False)\n",
    "\n",
    "# Customize the z axis.\n",
    "ax.zaxis.set_major_locator(LinearLocator(10))\n",
    "ax.zaxis.set_major_formatter(FormatStrFormatter('%.02f'))\n",
    "\n",
    "# Add a color bar which maps values to colors.\n",
    "fig.colorbar(surf, shrink=0.5, aspect=5)\n",
    "plt.title('Affine transformation of f(x, y)')\n",
    "\n",
    "plt.show()\n"
   ]
  },
  {
   "cell_type": "markdown",
   "metadata": {},
   "source": [
    "# The Jacobian"
   ]
  },
  {
   "cell_type": "markdown",
   "metadata": {},
   "source": [
    "An affine transformation is a linear transformation, so every point on the function $ f(x, y) $ is transformed by the same amount regardless of where it is. A nonlinear transformation may transform a function in ways that differ depending on where you are on the function. However, a nonlinear transformation appears linear if you look only at the local transformations around a point. The Jacobian estimates the local linear transformation of a function at any point. "
   ]
  },
  {
   "cell_type": "markdown",
   "metadata": {},
   "source": [
    "The Jacobian is defined:\n",
    "\n",
    "$$\n",
    "J f(x, y) = \\left[ \\begin{array}{c} \\frac{dP}{dx} \\frac{dP}{dy} \\\\\n",
    "                                    \\frac{dQ}{dx} \\frac{dQ}{dy} \\end{array} \\right]\n",
    "$$\n",
    "\n",
    "The determinant of the Jacobian indicates by how much the local space is being \"stretched\" or \"compressed\" at a point. \n",
    "\n",
    "$$\n",
    "\\begin{array}{cc} Det(J) > 1 & \\text{stretched} \\\\\n",
    "                  0 < Det(J) < 1 & \\text{compressed} \\\\\n",
    "                  -1 < Det(J) < 0 & \\text{compressed and x and y cross} \\\\\n",
    "                  Det(J) < -1 & \\text{stretched and x and y cross} \\end{array}\n",
    "$$"
   ]
  },
  {
   "cell_type": "markdown",
   "metadata": {},
   "source": [
    "For the following function $ F(x, y) $:\n",
    "\n",
    "$$\n",
    "F(x, y) = \\left[ \\begin{array}{c} P(x, y) \\\\\n",
    "                                  Q(x, y) \\end{array} \\right]\n",
    "        = \\left[ \\begin{array}{c} x + sin(y) \\\\\n",
    "                                  y + sin(x) \\end{array} \\right]\n",
    "$$\n",
    "\n",
    "The corresponding Jacobian is:\n",
    "\n",
    "$$\n",
    "J F(x, y) = \\left[ \\begin{array}{cc} \n",
    "                   1 + sin(y) & x + cos(y) \\\\\n",
    "                   1 + sin(y) & y + cos(x) \\end{array} \\right]\n",
    "$$"
   ]
  },
  {
   "cell_type": "code",
   "execution_count": null,
   "metadata": {
    "collapsed": true
   },
   "outputs": [],
   "source": [
    "X = np.arange(-5, 5, 0.025)\n",
    "Y = np.arange(-5, 5, 0.025)\n",
    "\n",
    "Xm, Ym = np.meshgrid(X, Y)\n",
    "f = lambda Xm, Ym : (Xm + np.sin(Ym), Ym + np.sin(Xm))\n",
    "Xm, Ym = f(Xm, Ym)"
   ]
  },
  {
   "cell_type": "code",
   "execution_count": null,
   "metadata": {
    "collapsed": false
   },
   "outputs": [],
   "source": [
    "# Create figure.\n",
    "fig = plt.figure()\n",
    "ax = fig.gca(projection='3d')\n",
    "surf = ax.plot_wireframe(Xm, Ym, np.zeros(Xm.shape[0]), \n",
    "                         cmap=cm.coolwarm, linewidth=1, antialiased=False,\n",
    "                         rstride=25, cstride=25)\n",
    "plt.title('Nonlinear transformation of f(x, y)')\n",
    "plt.show()"
   ]
  },
  {
   "cell_type": "code",
   "execution_count": null,
   "metadata": {
    "collapsed": false
   },
   "outputs": [],
   "source": [
    "detJ = lambda X, Y : (1 + np.sin(X)) * (Y + np.cos(X)) - (1 + np.sin(Y)) * (X + np.cos(Y))\n",
    "detJ = np.vectorize(detJ)\n",
    "\n",
    "# Create figure.\n",
    "fig = plt.figure()\n",
    "ax = fig.gca(projection='3d')\n",
    "surf = ax.plot_surface(Xm, Ym, detJ(Xm, Ym), cmap=cm.coolwarm, linewidth=0, antialiased=False)\n",
    "\n",
    "# Customize the z axis.\n",
    "ax.zaxis.set_major_locator(LinearLocator(10))\n",
    "ax.zaxis.set_major_formatter(FormatStrFormatter('%.02f'))\n",
    "\n",
    "# Add a color bar which maps values to colors.\n",
    "fig.colorbar(surf, shrink=0.5, aspect=5)\n",
    "plt.title('Determinant of Jacobian of f(x, y)')\n",
    "\n",
    "plt.show()\n"
   ]
  }
 ],
 "metadata": {
  "kernelspec": {
   "display_name": "Python [conda root]",
   "language": "python",
   "name": "conda-root-py"
  },
  "language_info": {
   "codemirror_mode": {
    "name": "ipython",
    "version": 2
   },
   "file_extension": ".py",
   "mimetype": "text/x-python",
   "name": "python",
   "nbconvert_exporter": "python",
   "pygments_lexer": "ipython2",
   "version": "2.7.11"
  }
 },
 "nbformat": 4,
 "nbformat_minor": 0
}
